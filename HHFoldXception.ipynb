{
  "nbformat": 4,
  "nbformat_minor": 0,
  "metadata": {
    "colab": {
      "provenance": [],
      "gpuType": "T4"
    },
    "kernelspec": {
      "name": "python3",
      "display_name": "Python 3"
    },
    "language_info": {
      "name": "python"
    },
    "accelerator": "GPU"
  },
  "cells": [
    {
      "cell_type": "code",
      "execution_count": 1,
      "metadata": {
        "colab": {
          "base_uri": "https://localhost:8080/"
        },
        "id": "NAZkqoU20yZc",
        "outputId": "54ed6960-7dd1-498b-916c-21cca3401579"
      },
      "outputs": [
        {
          "output_type": "stream",
          "name": "stdout",
          "text": [
            "Mounted at /content/drive\n"
          ]
        }
      ],
      "source": [
        "from google.colab import drive\n",
        "drive.mount('/content/drive',force_remount=True)"
      ]
    },
    {
      "cell_type": "code",
      "source": [
        "from google.colab import runtime\n",
        "from sklearn.model_selection import KFold\n",
        "import numpy as np\n",
        "import pandas as pd\n",
        "import seaborn as sns\n",
        "import matplotlib\n",
        "import matplotlib.pylab as plt\n",
        "from IPython.display import Image\n",
        "from google.colab import files\n",
        "from pyparsing import Word, hexnums, WordEnd, Optional, alphas, alphanums\n",
        "import cv2\n",
        "import os\n",
        "import struct\n",
        "from sklearn.utils import shuffle\n",
        "import tensorflow as tf\n",
        "from tensorflow import keras\n",
        "from keras.optimizers import Adamax\n",
        "from keras.callbacks import EarlyStopping, ModelCheckpoint\n",
        "from keras.models import load_model\n",
        "from keras.applications.xception import preprocess_input\n",
        "from keras.applications import Xception\n",
        "from sklearn.model_selection import train_test_split\n",
        "import pickle\n",
        "from keras.preprocessing.image import ImageDataGenerator\n",
        "from keras.layers import Input, Flatten, Dense\n",
        "from keras.models import Model\n",
        "from keras.applications import EfficientNetV2S\n",
        "from keras.applications.efficientnet_v2 import preprocess_input as preprocess_input2"
      ],
      "metadata": {
        "id": "FeACo1w-1Utu"
      },
      "execution_count": 3,
      "outputs": []
    },
    {
      "cell_type": "code",
      "source": [
        "def create_model(ishape,lr):\n",
        "\n",
        "\tmodel = tf.keras.applications.Xception(\n",
        "          weights= None,\n",
        "          input_shape = ishape,\n",
        "          classes=1,\n",
        "          classifier_activation='sigmoid'\n",
        "          )\n",
        "\n",
        "\tmodel.compile(loss='binary_crossentropy',\n",
        "                    optimizer=Adamax(learning_rate=lr),\n",
        "                    metrics=['accuracy', 'Precision', 'Recall']\n",
        "                    )\n",
        "\n",
        "\treturn model"
      ],
      "metadata": {
        "id": "JASP7lWl1XAu"
      },
      "execution_count": 4,
      "outputs": []
    },
    {
      "cell_type": "code",
      "source": [
        "def create_model2(ishape,lr):\n",
        "\n",
        "\tmodel = tf.keras.applications.EfficientNetV2S(\n",
        "          weights= None,\n",
        "          input_shape = ishape,\n",
        "          classes=1,\n",
        "          classifier_activation='sigmoid'\n",
        "          )\n",
        "\n",
        "\tmodel.compile(loss='binary_crossentropy',\n",
        "                    optimizer=Adamax(learning_rate=lr),\n",
        "                    metrics=['accuracy', 'Precision', 'Recall']\n",
        "                    )\n",
        "\n",
        "\treturn model"
      ],
      "metadata": {
        "id": "Tiiy2wnU15_w"
      },
      "execution_count": 5,
      "outputs": []
    },
    {
      "cell_type": "code",
      "source": [
        "ishape = (128,256,3)\n",
        "model = create_model(ishape, 0.001)\n",
        "idg = ImageDataGenerator(preprocessing_function=tf.keras.applications.xception.preprocess_input)\n",
        "training_data = pd.read_csv(\"/content/drive/MyDrive/HHDataset/HHFolds/fold1train.csv\")\n",
        "test_data = pd.read_csv(\"/content/drive/MyDrive/HHDataset/HHFolds/fold1test.csv\")\n",
        "training_data[['GR']] = training_data[['GR']].astype(str)\n",
        "test_data[['GR']] = test_data[['GR']].astype(str)\n",
        "train_set = idg.flow_from_dataframe(training_data, directory=\"/content/drive/MyDrive/HHDataset/HHFolds/HeaderPlusImages/\",\n",
        "                                    x_col=\"ImagePath\", y_col=\"GR\",\n",
        "                                    class_mode=\"binary\", shuffle=False, target_size=ishape[:2], batch_size=32)\n",
        "test_set  = idg.flow_from_dataframe(test_data, directory=\"/content/drive/MyDrive/HHDataset/HHFolds/HeaderPlusImages/\",\n",
        "                                    x_col=\"ImagePath\", y_col=\"GR\",\n",
        "                                    class_mode=\"binary\", shuffle=False, target_size=ishape[:2], batch_size=32)\n",
        "with tf.device('/device:GPU:0'):\n",
        "  model.fit(train_set, epochs=45, batch_size=32, verbose=1)\n",
        "with tf.device('/device:GPU:0'):\n",
        "  results = model.evaluate(test_set, batch_size=32, verbose=1)\n",
        "with tf.device('/device:GPU:0'):\n",
        "  results2 = model.predict(test_set, batch_size=1, verbose=1)\n",
        "# print(\"=====misclassifications=====\")\n",
        "# for i in range(len(results2)):\n",
        "#   if (results2[i] >= 0.5 and test_data.iloc[i][\"GR\"] == '0') or (results2[i] < 0.5 and test_data.iloc[i][\"GR\"] == '1'):\n",
        "#     print(results2[i], test_data.iloc[i][\"ImagePath\"])"
      ],
      "metadata": {
        "colab": {
          "base_uri": "https://localhost:8080/"
        },
        "id": "uT97wjEj19YS",
        "outputId": "9219ce42-4375-46be-ceec-f2004e26b337"
      },
      "execution_count": 9,
      "outputs": [
        {
          "output_type": "stream",
          "name": "stdout",
          "text": [
            "Found 899 validated image filenames belonging to 2 classes.\n",
            "Found 100 validated image filenames belonging to 2 classes.\n",
            "Epoch 1/45\n",
            "29/29 [==============================] - 29s 298ms/step - loss: 0.3461 - accuracy: 0.8509 - precision: 0.8248 - recall: 0.8940\n",
            "Epoch 2/45\n",
            "29/29 [==============================] - 9s 293ms/step - loss: 0.1518 - accuracy: 0.9455 - precision: 0.9391 - recall: 0.9536\n",
            "Epoch 3/45\n",
            "29/29 [==============================] - 9s 301ms/step - loss: 0.0681 - accuracy: 0.9766 - precision: 0.9675 - recall: 0.9868\n",
            "Epoch 4/45\n",
            "29/29 [==============================] - 9s 297ms/step - loss: 0.0251 - accuracy: 0.9889 - precision: 0.9847 - recall: 0.9934\n",
            "Epoch 5/45\n",
            "29/29 [==============================] - 9s 307ms/step - loss: 0.0273 - accuracy: 0.9933 - precision: 0.9912 - recall: 0.9956\n",
            "Epoch 6/45\n",
            "29/29 [==============================] - 9s 304ms/step - loss: 0.0059 - accuracy: 0.9989 - precision: 1.0000 - recall: 0.9978\n",
            "Epoch 7/45\n",
            "29/29 [==============================] - 9s 300ms/step - loss: 0.0016 - accuracy: 1.0000 - precision: 1.0000 - recall: 1.0000\n",
            "Epoch 8/45\n",
            "29/29 [==============================] - 9s 299ms/step - loss: 6.8924e-04 - accuracy: 1.0000 - precision: 1.0000 - recall: 1.0000\n",
            "Epoch 9/45\n",
            "29/29 [==============================] - 9s 297ms/step - loss: 2.2516e-04 - accuracy: 1.0000 - precision: 1.0000 - recall: 1.0000\n",
            "Epoch 10/45\n",
            "29/29 [==============================] - 9s 292ms/step - loss: 1.7580e-04 - accuracy: 1.0000 - precision: 1.0000 - recall: 1.0000\n",
            "Epoch 11/45\n",
            "29/29 [==============================] - 9s 299ms/step - loss: 1.4548e-04 - accuracy: 1.0000 - precision: 1.0000 - recall: 1.0000\n",
            "Epoch 12/45\n",
            "29/29 [==============================] - 9s 296ms/step - loss: 1.2447e-04 - accuracy: 1.0000 - precision: 1.0000 - recall: 1.0000\n",
            "Epoch 13/45\n",
            "29/29 [==============================] - 9s 296ms/step - loss: 1.0962e-04 - accuracy: 1.0000 - precision: 1.0000 - recall: 1.0000\n",
            "Epoch 14/45\n",
            "29/29 [==============================] - 9s 310ms/step - loss: 9.7150e-05 - accuracy: 1.0000 - precision: 1.0000 - recall: 1.0000\n",
            "Epoch 15/45\n",
            "29/29 [==============================] - 9s 301ms/step - loss: 8.7397e-05 - accuracy: 1.0000 - precision: 1.0000 - recall: 1.0000\n",
            "Epoch 16/45\n",
            "29/29 [==============================] - 9s 298ms/step - loss: 7.8890e-05 - accuracy: 1.0000 - precision: 1.0000 - recall: 1.0000\n",
            "Epoch 17/45\n",
            "29/29 [==============================] - 9s 298ms/step - loss: 7.1847e-05 - accuracy: 1.0000 - precision: 1.0000 - recall: 1.0000\n",
            "Epoch 18/45\n",
            "29/29 [==============================] - 9s 300ms/step - loss: 6.5701e-05 - accuracy: 1.0000 - precision: 1.0000 - recall: 1.0000\n",
            "Epoch 19/45\n",
            "29/29 [==============================] - 9s 294ms/step - loss: 6.0676e-05 - accuracy: 1.0000 - precision: 1.0000 - recall: 1.0000\n",
            "Epoch 20/45\n",
            "29/29 [==============================] - 9s 300ms/step - loss: 5.6120e-05 - accuracy: 1.0000 - precision: 1.0000 - recall: 1.0000\n",
            "Epoch 21/45\n",
            "29/29 [==============================] - 9s 298ms/step - loss: 5.1977e-05 - accuracy: 1.0000 - precision: 1.0000 - recall: 1.0000\n",
            "Epoch 22/45\n",
            "29/29 [==============================] - 9s 298ms/step - loss: 4.8402e-05 - accuracy: 1.0000 - precision: 1.0000 - recall: 1.0000\n",
            "Epoch 23/45\n",
            "29/29 [==============================] - 9s 301ms/step - loss: 4.5234e-05 - accuracy: 1.0000 - precision: 1.0000 - recall: 1.0000\n",
            "Epoch 24/45\n",
            "29/29 [==============================] - 9s 295ms/step - loss: 4.2266e-05 - accuracy: 1.0000 - precision: 1.0000 - recall: 1.0000\n",
            "Epoch 25/45\n",
            "29/29 [==============================] - 9s 298ms/step - loss: 3.9745e-05 - accuracy: 1.0000 - precision: 1.0000 - recall: 1.0000\n",
            "Epoch 26/45\n",
            "29/29 [==============================] - 9s 300ms/step - loss: 3.7257e-05 - accuracy: 1.0000 - precision: 1.0000 - recall: 1.0000\n",
            "Epoch 27/45\n",
            "29/29 [==============================] - 9s 295ms/step - loss: 3.5213e-05 - accuracy: 1.0000 - precision: 1.0000 - recall: 1.0000\n",
            "Epoch 28/45\n",
            "29/29 [==============================] - 9s 302ms/step - loss: 3.3197e-05 - accuracy: 1.0000 - precision: 1.0000 - recall: 1.0000\n",
            "Epoch 29/45\n",
            "29/29 [==============================] - 9s 297ms/step - loss: 3.1336e-05 - accuracy: 1.0000 - precision: 1.0000 - recall: 1.0000\n",
            "Epoch 30/45\n",
            "29/29 [==============================] - 9s 295ms/step - loss: 2.9666e-05 - accuracy: 1.0000 - precision: 1.0000 - recall: 1.0000\n",
            "Epoch 31/45\n",
            "29/29 [==============================] - 9s 300ms/step - loss: 2.8133e-05 - accuracy: 1.0000 - precision: 1.0000 - recall: 1.0000\n",
            "Epoch 32/45\n",
            "29/29 [==============================] - 9s 301ms/step - loss: 2.6725e-05 - accuracy: 1.0000 - precision: 1.0000 - recall: 1.0000\n",
            "Epoch 33/45\n",
            "29/29 [==============================] - 9s 295ms/step - loss: 2.5383e-05 - accuracy: 1.0000 - precision: 1.0000 - recall: 1.0000\n",
            "Epoch 34/45\n",
            "29/29 [==============================] - 9s 299ms/step - loss: 2.4114e-05 - accuracy: 1.0000 - precision: 1.0000 - recall: 1.0000\n",
            "Epoch 35/45\n",
            "29/29 [==============================] - 9s 297ms/step - loss: 2.2991e-05 - accuracy: 1.0000 - precision: 1.0000 - recall: 1.0000\n",
            "Epoch 36/45\n",
            "29/29 [==============================] - 9s 294ms/step - loss: 2.1922e-05 - accuracy: 1.0000 - precision: 1.0000 - recall: 1.0000\n",
            "Epoch 37/45\n",
            "29/29 [==============================] - 9s 299ms/step - loss: 2.0916e-05 - accuracy: 1.0000 - precision: 1.0000 - recall: 1.0000\n",
            "Epoch 38/45\n",
            "29/29 [==============================] - 9s 298ms/step - loss: 1.9940e-05 - accuracy: 1.0000 - precision: 1.0000 - recall: 1.0000\n",
            "Epoch 39/45\n",
            "29/29 [==============================] - 9s 297ms/step - loss: 1.9048e-05 - accuracy: 1.0000 - precision: 1.0000 - recall: 1.0000\n",
            "Epoch 40/45\n",
            "29/29 [==============================] - 9s 300ms/step - loss: 1.8255e-05 - accuracy: 1.0000 - precision: 1.0000 - recall: 1.0000\n",
            "Epoch 41/45\n",
            "29/29 [==============================] - 9s 298ms/step - loss: 1.7451e-05 - accuracy: 1.0000 - precision: 1.0000 - recall: 1.0000\n",
            "Epoch 42/45\n",
            "29/29 [==============================] - 9s 298ms/step - loss: 1.6718e-05 - accuracy: 1.0000 - precision: 1.0000 - recall: 1.0000\n",
            "Epoch 43/45\n",
            "29/29 [==============================] - 9s 302ms/step - loss: 1.6006e-05 - accuracy: 1.0000 - precision: 1.0000 - recall: 1.0000\n",
            "Epoch 44/45\n",
            "29/29 [==============================] - 9s 297ms/step - loss: 1.5340e-05 - accuracy: 1.0000 - precision: 1.0000 - recall: 1.0000\n",
            "Epoch 45/45\n",
            "29/29 [==============================] - 9s 302ms/step - loss: 1.4727e-05 - accuracy: 1.0000 - precision: 1.0000 - recall: 1.0000\n",
            "4/4 [==============================] - 1s 70ms/step - loss: 0.1402 - accuracy: 0.9700 - precision: 0.9783 - recall: 0.9574\n",
            "4/4 [==============================] - 1s 84ms/step\n"
          ]
        }
      ]
    },
    {
      "cell_type": "code",
      "source": [
        "ishape = (128,256,3)\n",
        "model = create_model(ishape, 0.001)\n",
        "idg = ImageDataGenerator(preprocessing_function=tf.keras.applications.xception.preprocess_input)\n",
        "training_data = pd.read_csv(\"/content/drive/MyDrive/HHDataset/HHFolds/fold1train.csv\")\n",
        "test_data = pd.read_csv(\"/content/drive/MyDrive/HHDataset/HHFolds/fold1test.csv\")\n",
        "training_data[['GR']] = training_data[['GR']].astype(str)\n",
        "test_data[['GR']] = test_data[['GR']].astype(str)\n",
        "train_set = idg.flow_from_dataframe(training_data, directory=\"/content/drive/MyDrive/HHDataset/HHFolds/HeaderPlusImages/\",\n",
        "                                    x_col=\"ImagePath\", y_col=\"GR\",\n",
        "                                    class_mode=\"binary\", shuffle=False, target_size=ishape[:2], batch_size=32)\n",
        "test_set  = idg.flow_from_dataframe(test_data, directory=\"/content/drive/MyDrive/HHDataset/HHFolds/HeaderPlusImages/\",\n",
        "                                    x_col=\"ImagePath\", y_col=\"GR\",\n",
        "                                    class_mode=\"binary\", shuffle=False, target_size=ishape[:2], batch_size=32)\n",
        "with tf.device('/device:GPU:0'):\n",
        "  model.fit(train_set, epochs=15, batch_size=32, verbose=1)\n",
        "with tf.device('/device:GPU:0'):\n",
        "  results = model.evaluate(test_set, batch_size=32, verbose=1)\n",
        "with tf.device('/device:GPU:0'):\n",
        "  results2 = model.predict(test_set, batch_size=1, verbose=1)\n",
        "# print(\"=====misclassifications=====\")\n",
        "# for i in range(len(results2)):\n",
        "#   if (results2[i] >= 0.5 and test_data.iloc[i][\"GR\"] == '0') or (results2[i] < 0.5 and test_data.iloc[i][\"GR\"] == '1'):\n",
        "#     print(results2[i], test_data.iloc[i][\"ImagePath\"])"
      ],
      "metadata": {
        "colab": {
          "base_uri": "https://localhost:8080/"
        },
        "id": "BLFm8YBE6xjF",
        "outputId": "31150d63-a1a0-4172-e432-8a123c10b73a"
      },
      "execution_count": 11,
      "outputs": [
        {
          "output_type": "stream",
          "name": "stdout",
          "text": [
            "Found 899 validated image filenames belonging to 2 classes.\n",
            "Found 100 validated image filenames belonging to 2 classes.\n",
            "Epoch 1/15\n",
            "29/29 [==============================] - 30s 291ms/step - loss: 0.3682 - accuracy: 0.8331 - precision: 0.8086 - recall: 0.8764\n",
            "Epoch 2/15\n",
            "29/29 [==============================] - 9s 295ms/step - loss: 0.1530 - accuracy: 0.9433 - precision: 0.9351 - recall: 0.9536\n",
            "Epoch 3/15\n",
            "29/29 [==============================] - 9s 313ms/step - loss: 0.0698 - accuracy: 0.9822 - precision: 0.9740 - recall: 0.9912\n",
            "Epoch 4/15\n",
            "29/29 [==============================] - 9s 310ms/step - loss: 0.0476 - accuracy: 0.9867 - precision: 0.9783 - recall: 0.9956\n",
            "Epoch 5/15\n",
            "29/29 [==============================] - 9s 305ms/step - loss: 0.0106 - accuracy: 0.9956 - precision: 0.9978 - recall: 0.9934\n",
            "Epoch 6/15\n",
            "29/29 [==============================] - 9s 304ms/step - loss: 0.0278 - accuracy: 0.9933 - precision: 0.9891 - recall: 0.9978\n",
            "Epoch 7/15\n",
            "29/29 [==============================] - 9s 297ms/step - loss: 0.0067 - accuracy: 0.9978 - precision: 0.9978 - recall: 0.9978\n",
            "Epoch 8/15\n",
            "29/29 [==============================] - 9s 299ms/step - loss: 0.0038 - accuracy: 0.9989 - precision: 0.9978 - recall: 1.0000\n",
            "Epoch 9/15\n",
            "29/29 [==============================] - 9s 296ms/step - loss: 6.0442e-04 - accuracy: 1.0000 - precision: 1.0000 - recall: 1.0000\n",
            "Epoch 10/15\n",
            "29/29 [==============================] - 9s 292ms/step - loss: 4.6628e-04 - accuracy: 1.0000 - precision: 1.0000 - recall: 1.0000\n",
            "Epoch 11/15\n",
            "29/29 [==============================] - 9s 298ms/step - loss: 1.8420e-04 - accuracy: 1.0000 - precision: 1.0000 - recall: 1.0000\n",
            "Epoch 12/15\n",
            "29/29 [==============================] - 9s 296ms/step - loss: 1.4444e-04 - accuracy: 1.0000 - precision: 1.0000 - recall: 1.0000\n",
            "Epoch 13/15\n",
            "29/29 [==============================] - 9s 300ms/step - loss: 1.1869e-04 - accuracy: 1.0000 - precision: 1.0000 - recall: 1.0000\n",
            "Epoch 14/15\n",
            "29/29 [==============================] - 9s 302ms/step - loss: 1.0275e-04 - accuracy: 1.0000 - precision: 1.0000 - recall: 1.0000\n",
            "Epoch 15/15\n",
            "29/29 [==============================] - 9s 297ms/step - loss: 9.0359e-05 - accuracy: 1.0000 - precision: 1.0000 - recall: 1.0000\n",
            "4/4 [==============================] - 2s 80ms/step - loss: 1.3485 - accuracy: 0.4700 - precision: 0.4700 - recall: 1.0000\n",
            "4/4 [==============================] - 1s 113ms/step\n"
          ]
        }
      ]
    },
    {
      "cell_type": "code",
      "source": [],
      "metadata": {
        "id": "zUeMiLYKAuym"
      },
      "execution_count": null,
      "outputs": []
    }
  ]
}